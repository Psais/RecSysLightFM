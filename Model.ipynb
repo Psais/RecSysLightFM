{
 "cells": [
  {
   "cell_type": "code",
   "execution_count": 1,
   "id": "05e8fc52-ed33-4caa-85c5-a2c259606479",
   "metadata": {},
   "outputs": [],
   "source": [
    "import pandas as pd\n",
    "import numpy as np\n",
    "import os\n",
    "import csv\n",
    "import requests\n",
    "import json\n",
    "import scipy.sparse as sparse\n",
    "from itertools import islice\n",
    "from lightfm.data import Dataset\n",
    "from lightfm import LightFM\n",
    "from lightfm.evaluation import auc_score\n",
    "\n",
    "data_url = \"https://raw.githubusercontent.com/zygmuntz/goodbooks-10k/master/\""
   ]
  },
  {
   "cell_type": "code",
   "execution_count": 3,
   "id": "cc448e75-33a0-4bfb-aa6c-7118281310ca",
   "metadata": {},
   "outputs": [],
   "source": [
    "def _download(url: str, dest_path: str):\n",
    "\n",
    "    req = requests.get(url, stream=True)\n",
    "    req.raise_for_status()\n",
    "\n",
    "    with open(dest_path, \"wb\") as fd:\n",
    "        for chunk in req.iter_content(chunk_size=2 ** 20):\n",
    "            fd.write(chunk)\n",
    "\n",
    "\n",
    "def get_data(string):\n",
    "\n",
    "    dat_string =  string + \".csv\"\n",
    "    ratings_url = data_url + dat_string\n",
    "    dest_path = \"data/\" + string + \".csv\"\n",
    "\n",
    "    if not os.path.exists(\"data\"):\n",
    "        os.makedirs(\"data\")\n",
    "        \n",
    "        _download(ratings_url, dest_path)\n",
    "    else:\n",
    "        if not os.path.exists(dest_path):\n",
    "            _download(ratings_url, dest_path)\n",
    "    \n",
    "    with open(dest_path, \"r\") as dat:\n",
    "        dat = [x for x in csv.DictReader(dat)] \n",
    "        return dat\n",
    "\n",
    "\n",
    "def get_ratings():\n",
    "\n",
    "    return get_data(\"ratings\")\n",
    "\n",
    "def get_book_features():\n",
    "\n",
    "    return get_data(\"books\")"
   ]
  },
  {
   "cell_type": "code",
   "execution_count": 5,
   "id": "a900cd62-f2e0-4575-a2ca-aefd6af64b08",
   "metadata": {},
   "outputs": [],
   "source": [
    "ratings, book_features = get_ratings(), get_book_features()"
   ]
  },
  {
   "cell_type": "code",
   "execution_count": 7,
   "id": "130544dd-0dec-4422-86be-de7a96049157",
   "metadata": {},
   "outputs": [
    {
     "name": "stdout",
     "output_type": "stream",
     "text": [
      "{\n",
      "    \"user_id\": \"1\",\n",
      "    \"book_id\": \"258\",\n",
      "    \"rating\": \"5\"\n",
      "}\n",
      "{\n",
      "    \"user_id\": \"2\",\n",
      "    \"book_id\": \"4081\",\n",
      "    \"rating\": \"4\"\n",
      "}\n"
     ]
    }
   ],
   "source": [
    "for line in islice(ratings, 2):\n",
    "    print(json.dumps(line, indent=4))"
   ]
  },
  {
   "cell_type": "code",
   "execution_count": 9,
   "id": "52f7ad81-4080-4fca-add0-02888f31db7d",
   "metadata": {
    "scrolled": true
   },
   "outputs": [
    {
     "name": "stdout",
     "output_type": "stream",
     "text": [
      "{\n",
      "    \"book_id\": \"1\",\n",
      "    \"goodreads_book_id\": \"2767052\",\n",
      "    \"best_book_id\": \"2767052\",\n",
      "    \"work_id\": \"2792775\",\n",
      "    \"books_count\": \"272\",\n",
      "    \"isbn\": \"439023483\",\n",
      "    \"isbn13\": \"9.78043902348e+12\",\n",
      "    \"authors\": \"Suzanne Collins\",\n",
      "    \"original_publication_year\": \"2008.0\",\n",
      "    \"original_title\": \"The Hunger Games\",\n",
      "    \"title\": \"The Hunger Games (The Hunger Games, #1)\",\n",
      "    \"language_code\": \"eng\",\n",
      "    \"average_rating\": \"4.34\",\n",
      "    \"ratings_count\": \"4780653\",\n",
      "    \"work_ratings_count\": \"4942365\",\n",
      "    \"work_text_reviews_count\": \"155254\",\n",
      "    \"ratings_1\": \"66715\",\n",
      "    \"ratings_2\": \"127936\",\n",
      "    \"ratings_3\": \"560092\",\n",
      "    \"ratings_4\": \"1481305\",\n",
      "    \"ratings_5\": \"2706317\",\n",
      "    \"image_url\": \"https://images.gr-assets.com/books/1447303603m/2767052.jpg\",\n",
      "    \"small_image_url\": \"https://images.gr-assets.com/books/1447303603s/2767052.jpg\"\n",
      "}\n"
     ]
    }
   ],
   "source": [
    "for line in islice(book_features, 1):\n",
    "    print(json.dumps(line, indent=4))"
   ]
  },
  {
   "cell_type": "code",
   "execution_count": 131,
   "id": "f48676c4-e888-40f4-8f1e-b3c93e34e91d",
   "metadata": {},
   "outputs": [],
   "source": [
    "title_list = {\"book_id\" : [x['book_id'] for x in book_features], \n",
    "              \"title\" : [x['title'] for x in book_features], \n",
    "              \"img\" : [x['image_url'] for x in book_features]}\n",
    "title_frame = pd.DataFrame(data = title_list)\n",
    "\n",
    "def make_clickable(val):\n",
    "    return '<a target=\"_blank\" href=\"{}\">Goodreads</a>'.format(val)\n",
    "\n",
    "def path_to_image_html(path):\n",
    "    return '<img src=\"'+ path + '\" width=\"50\" >'"
   ]
  },
  {
   "cell_type": "code",
   "execution_count": 171,
   "id": "fb5577f3-510a-4bf4-a4fb-e99c5bf164a9",
   "metadata": {},
   "outputs": [],
   "source": [
    "def string_list(substring):\n",
    "    substring = substring.lower()\n",
    "    seen = []\n",
    "    for item in title_frame.itertuples(index = False):\n",
    "        if (item.title.lower()).find(substring) == -1:\n",
    "            continue\n",
    "        else: \n",
    "            seen.append(item)\n",
    "            \n",
    "    return pd.DataFrame(data = seen)\n",
    "\n",
    "def ask_rating(user_id):\n",
    "    while True:\n",
    "        book_name = input(\"Enter book to rate (You could enter a substring):\\n\")\n",
    "        \n",
    "        if len(book_name) == 0:\n",
    "            return None\n",
    "            \n",
    "        elif len(book_name) < 4:\n",
    "            print(\"Please enter at least 4 characters!\\n\")\n",
    "            continue\n",
    "        \n",
    "        search_list = string_list(book_name)\n",
    "        \n",
    "        if search_list.empty == True:\n",
    "            print(\"...\")\n",
    "            continue\n",
    "\n",
    "        display_data = search_list.loc[:, search_list.columns != 'book_id']\n",
    "        display(display_data.head(10).style.format({\"img\": path_to_image_html}))\n",
    "        \n",
    "        while True:\n",
    "            \n",
    "            try:\n",
    "                index_choice = int(input(\"Choose index of book to rate:\\n\"))\n",
    "\n",
    "            except:\n",
    "                print(\"Impossible Index!\")\n",
    "                continue\n",
    "\n",
    "            row = search_list.iloc[int(index_choice)]\n",
    "            book_id, title = row.loc['book_id'], row['title']\n",
    "            \n",
    "            print(f\"{title}\\n\")\n",
    "            rating = input(\"Enter rating as a number from 1-5\\n\")\n",
    "                \n",
    "            if rating.isdigit() == False:\n",
    "                print(\"Enter an integer!\\n\")\n",
    "                    \n",
    "            elif int(rating) > 5 or int(rating) < 1:\n",
    "                print(\"Please enter valid rating\")\n",
    "                rating = input(\"Enter rating as a number from 1-5\\n\")\n",
    "                    \n",
    "            return {'user_id': user_id, 'book_id': book_id, 'rating': int(rating)}"
   ]
  },
  {
   "cell_type": "code",
   "execution_count": 141,
   "id": "fda683ec-3d35-41a2-91d8-e23f9d03621d",
   "metadata": {},
   "outputs": [],
   "source": [
    "def scale_weights(weights, interactions):\n",
    "    \n",
    "    count_treat = interactions.sum(axis = 0)[0,]\n",
    "    C = np.squeeze(np.asarray(count_treat))\n",
    "    \n",
    "    inv_pscore = np.power(C, -(0.45)*np.ones(len(C)))\n",
    "    adj_score_mat = weights.multiply(sparse.csr_array(inv_pscore))\n",
    "    mx_wgt = adj_score_mat.max()\n",
    "    max_norm_inv = np.power(mx_wgt, -1)\n",
    "    \n",
    "    scaled_weights = adj_score_mat.tocoo()*(max_norm_inv*5)\n",
    "    return scaled_weights"
   ]
  },
  {
   "cell_type": "code",
   "execution_count": 167,
   "id": "81052e50-c841-41b6-ba67-719300fd6d95",
   "metadata": {
    "scrolled": true
   },
   "outputs": [
    {
     "name": "stdout",
     "output_type": "stream",
     "text": [
      "Hit enter without text in the book-input to exit rating process!\n",
      "\n"
     ]
    },
    {
     "name": "stdin",
     "output_type": "stream",
     "text": [
      "Enter book to rate (You could enter a substring):\n",
      " harry\n"
     ]
    },
    {
     "data": {
      "text/html": [
       "<style type=\"text/css\">\n",
       "</style>\n",
       "<table id=\"T_0e8e8\">\n",
       "  <thead>\n",
       "    <tr>\n",
       "      <th class=\"blank level0\" >&nbsp;</th>\n",
       "      <th id=\"T_0e8e8_level0_col0\" class=\"col_heading level0 col0\" >title</th>\n",
       "      <th id=\"T_0e8e8_level0_col1\" class=\"col_heading level0 col1\" >img</th>\n",
       "    </tr>\n",
       "  </thead>\n",
       "  <tbody>\n",
       "    <tr>\n",
       "      <th id=\"T_0e8e8_level0_row0\" class=\"row_heading level0 row0\" >0</th>\n",
       "      <td id=\"T_0e8e8_row0_col0\" class=\"data row0 col0\" >Harry Potter and the Sorcerer's Stone (Harry Potter, #1)</td>\n",
       "      <td id=\"T_0e8e8_row0_col1\" class=\"data row0 col1\" ><img src=\"https://images.gr-assets.com/books/1474154022m/3.jpg\" width=\"50\" ></td>\n",
       "    </tr>\n",
       "    <tr>\n",
       "      <th id=\"T_0e8e8_level0_row1\" class=\"row_heading level0 row1\" >1</th>\n",
       "      <td id=\"T_0e8e8_row1_col0\" class=\"data row1 col0\" >Harry Potter and the Prisoner of Azkaban (Harry Potter, #3)</td>\n",
       "      <td id=\"T_0e8e8_row1_col1\" class=\"data row1 col1\" ><img src=\"https://images.gr-assets.com/books/1499277281m/5.jpg\" width=\"50\" ></td>\n",
       "    </tr>\n",
       "    <tr>\n",
       "      <th id=\"T_0e8e8_level0_row2\" class=\"row_heading level0 row2\" >2</th>\n",
       "      <td id=\"T_0e8e8_row2_col0\" class=\"data row2 col0\" >Harry Potter and the Order of the Phoenix (Harry Potter, #5)</td>\n",
       "      <td id=\"T_0e8e8_row2_col1\" class=\"data row2 col1\" ><img src=\"https://images.gr-assets.com/books/1387141547m/2.jpg\" width=\"50\" ></td>\n",
       "    </tr>\n",
       "    <tr>\n",
       "      <th id=\"T_0e8e8_level0_row3\" class=\"row_heading level0 row3\" >3</th>\n",
       "      <td id=\"T_0e8e8_row3_col0\" class=\"data row3 col0\" >Harry Potter and the Chamber of Secrets (Harry Potter, #2)</td>\n",
       "      <td id=\"T_0e8e8_row3_col1\" class=\"data row3 col1\" ><img src=\"https://images.gr-assets.com/books/1474169725m/15881.jpg\" width=\"50\" ></td>\n",
       "    </tr>\n",
       "    <tr>\n",
       "      <th id=\"T_0e8e8_level0_row4\" class=\"row_heading level0 row4\" >4</th>\n",
       "      <td id=\"T_0e8e8_row4_col0\" class=\"data row4 col0\" >Harry Potter and the Goblet of Fire (Harry Potter, #4)</td>\n",
       "      <td id=\"T_0e8e8_row4_col1\" class=\"data row4 col1\" ><img src=\"https://images.gr-assets.com/books/1361482611m/6.jpg\" width=\"50\" ></td>\n",
       "    </tr>\n",
       "    <tr>\n",
       "      <th id=\"T_0e8e8_level0_row5\" class=\"row_heading level0 row5\" >5</th>\n",
       "      <td id=\"T_0e8e8_row5_col0\" class=\"data row5 col0\" >Harry Potter and the Deathly Hallows (Harry Potter, #7)</td>\n",
       "      <td id=\"T_0e8e8_row5_col1\" class=\"data row5 col1\" ><img src=\"https://images.gr-assets.com/books/1474171184m/136251.jpg\" width=\"50\" ></td>\n",
       "    </tr>\n",
       "    <tr>\n",
       "      <th id=\"T_0e8e8_level0_row6\" class=\"row_heading level0 row6\" >6</th>\n",
       "      <td id=\"T_0e8e8_row6_col0\" class=\"data row6 col0\" >Harry Potter and the Half-Blood Prince (Harry Potter, #6)</td>\n",
       "      <td id=\"T_0e8e8_row6_col1\" class=\"data row6 col1\" ><img src=\"https://images.gr-assets.com/books/1361039191m/1.jpg\" width=\"50\" ></td>\n",
       "    </tr>\n",
       "    <tr>\n",
       "      <th id=\"T_0e8e8_level0_row7\" class=\"row_heading level0 row7\" >7</th>\n",
       "      <td id=\"T_0e8e8_row7_col0\" class=\"data row7 col0\" >Harry Potter and the Cursed Child - Parts One and Two (Harry Potter, #8)</td>\n",
       "      <td id=\"T_0e8e8_row7_col1\" class=\"data row7 col1\" ><img src=\"https://images.gr-assets.com/books/1470082995m/29056083.jpg\" width=\"50\" ></td>\n",
       "    </tr>\n",
       "    <tr>\n",
       "      <th id=\"T_0e8e8_level0_row8\" class=\"row_heading level0 row8\" >8</th>\n",
       "      <td id=\"T_0e8e8_row8_col0\" class=\"data row8 col0\" >Harry Potter Boxset (Harry Potter, #1-7)</td>\n",
       "      <td id=\"T_0e8e8_row8_col1\" class=\"data row8 col1\" ><img src=\"https://images.gr-assets.com/books/1392579059m/862041.jpg\" width=\"50\" ></td>\n",
       "    </tr>\n",
       "    <tr>\n",
       "      <th id=\"T_0e8e8_level0_row9\" class=\"row_heading level0 row9\" >9</th>\n",
       "      <td id=\"T_0e8e8_row9_col0\" class=\"data row9 col0\" >The Lincoln Lawyer (Mickey Haller, #1; Harry Bosch Universe, #16)</td>\n",
       "      <td id=\"T_0e8e8_row9_col1\" class=\"data row9 col1\" ><img src=\"https://images.gr-assets.com/books/1370140049m/79885.jpg\" width=\"50\" ></td>\n",
       "    </tr>\n",
       "  </tbody>\n",
       "</table>\n"
      ],
      "text/plain": [
       "<pandas.io.formats.style.Styler at 0x7f6df5b8cad0>"
      ]
     },
     "metadata": {},
     "output_type": "display_data"
    },
    {
     "name": "stdin",
     "output_type": "stream",
     "text": [
      "Choose index of book to rate:\n",
      " \n"
     ]
    },
    {
     "name": "stdout",
     "output_type": "stream",
     "text": [
      "Impossible Index!\n"
     ]
    },
    {
     "name": "stdin",
     "output_type": "stream",
     "text": [
      "Choose index of book to rate:\n",
      " 5\n"
     ]
    },
    {
     "name": "stdout",
     "output_type": "stream",
     "text": [
      "Harry Potter and the Deathly Hallows (Harry Potter, #7)\n",
      "\n"
     ]
    },
    {
     "name": "stdin",
     "output_type": "stream",
     "text": [
      "Enter rating as a number from 1-5\n",
      " 5\n"
     ]
    },
    {
     "name": "stdout",
     "output_type": "stream",
     "text": [
      "Hit enter without text in the book-input to exit rating process!\n",
      "\n"
     ]
    },
    {
     "name": "stdin",
     "output_type": "stream",
     "text": [
      "Enter book to rate (You could enter a substring):\n",
      " \n"
     ]
    }
   ],
   "source": [
    "curr_ratings = []\n",
    "dataset = Dataset()\n",
    "\n",
    "def rating_store(curr_ratings):\n",
    "    while True:\n",
    "        print(\"Hit enter without text in the book-input to exit rating process!\\n\")\n",
    "        user_input = ask_rating('-1')\n",
    "        if user_input != None:\n",
    "            curr_ratings.append(user_input)\n",
    "        else:\n",
    "            break\n",
    "\n",
    "rating_store(curr_ratings)\n",
    "\n",
    "if len(curr_ratings) == 0:\n",
    "    print(\"Please enter some ratings! You have entered no ratings\\n\")\n",
    "    val = input(\"Or please confirm you wish to not enter anymore ratings. Y/n:\\n\")\n",
    "    if val.lower() == 'n':\n",
    "        rating_store(curr_ratings)\n",
    "        \n",
    "dataset.fit((x['user_id'] for x in ratings+curr_ratings),\n",
    "            (x['book_id'] for x in ratings+curr_ratings),\n",
    "            (x['rating'] for x in ratings+curr_ratings))   "
   ]
  },
  {
   "cell_type": "code",
   "execution_count": 168,
   "id": "3fc5c67d-654b-4072-933e-6007414a1236",
   "metadata": {
    "scrolled": true
   },
   "outputs": [
    {
     "data": {
      "text/plain": [
       "[{'user_id': '-1', 'book_id': '25', 'rating': 5}]"
      ]
     },
     "execution_count": 168,
     "metadata": {},
     "output_type": "execute_result"
    }
   ],
   "source": [
    "curr_ratings"
   ]
  },
  {
   "cell_type": "code",
   "execution_count": 334,
   "id": "fa4a1e03-1f21-4ad6-a57d-0e9836b242ab",
   "metadata": {},
   "outputs": [],
   "source": [
    "dataset.fit_partial(items=(x['book_id'] for x in book_features),\n",
    "                    item_features=(x['authors'] for x in book_features))"
   ]
  },
  {
   "cell_type": "code",
   "execution_count": 337,
   "id": "72b1d1c5-3b5b-4ba7-ab5d-b4339a047825",
   "metadata": {},
   "outputs": [],
   "source": [
    "item_features = dataset.build_item_features(((x['book_id']), [x['authors']])\n",
    "                                              for x in book_features)"
   ]
  },
  {
   "cell_type": "code",
   "execution_count": 339,
   "id": "67a45da2-361b-4f75-b578-7ca2c827f056",
   "metadata": {},
   "outputs": [
    {
     "data": {
      "text/plain": [
       "0"
      ]
     },
     "execution_count": 339,
     "metadata": {},
     "output_type": "execute_result"
    }
   ],
   "source": [
    "len(curr_ratings)"
   ]
  },
  {
   "cell_type": "code",
   "execution_count": 341,
   "id": "945ed3ef-625e-4e64-8130-244fced0f769",
   "metadata": {},
   "outputs": [],
   "source": [
    "(interactions, weights) = dataset.build_interactions((x['user_id'], x['book_id'], int(x['rating'])) \n",
    "                                                      for x in ratings+curr_ratings)"
   ]
  },
  {
   "cell_type": "code",
   "execution_count": 343,
   "id": "1c41fa5d-6df5-4707-939f-2c36db03b809",
   "metadata": {},
   "outputs": [],
   "source": [
    "weights = weights.tocsr().tocoo()\n",
    "interactions = interactions.tocsr().tocoo()"
   ]
  },
  {
   "cell_type": "code",
   "execution_count": 345,
   "id": "7a7861fd-4ef3-4c63-9c35-757067252d77",
   "metadata": {},
   "outputs": [
    {
     "name": "stdout",
     "output_type": "stream",
     "text": [
      "Num users: 53424, num_items 10000.\n"
     ]
    }
   ],
   "source": [
    "num_users, num_items = dataset.interactions_shape()\n",
    "print('Num users: {}, num_items {}.'.format(num_users, num_items))"
   ]
  },
  {
   "cell_type": "code",
   "execution_count": 347,
   "id": "c76fc741-d21d-4178-b5be-b7cfa87835f7",
   "metadata": {},
   "outputs": [
    {
     "name": "stdout",
     "output_type": "stream",
     "text": [
      "<53424x10000 sparse matrix of type '<class 'numpy.int32'>'\n",
      "\twith 5976479 stored elements in COOrdinate format>\n"
     ]
    }
   ],
   "source": [
    "print(repr(interactions))"
   ]
  },
  {
   "cell_type": "code",
   "execution_count": 349,
   "id": "10205337-b06e-4bb2-b76a-fbed676c0086",
   "metadata": {},
   "outputs": [],
   "source": [
    "scaled_weights = scale_weights(weights, interactions)"
   ]
  },
  {
   "cell_type": "code",
   "execution_count": 351,
   "id": "d1310d54-7356-4efd-9f2d-d63e4be6d284",
   "metadata": {},
   "outputs": [],
   "source": [
    "mapping = dataset.mapping()\n",
    "\n",
    "def inv_dict(dicti):\n",
    "    return dict(zip(dicti.values(), dicti.keys()))\n",
    "    \n",
    "inv_mapping = [inv_dict(x) for x in mapping]"
   ]
  },
  {
   "cell_type": "code",
   "execution_count": 353,
   "id": "666d57e8-110a-40b2-8c29-a3c45fe9e317",
   "metadata": {},
   "outputs": [
    {
     "name": "stdout",
     "output_type": "stream",
     "text": [
      "CPU times: user 4min 51s, sys: 2.86 s, total: 4min 54s\n",
      "Wall time: 42.9 s\n"
     ]
    },
    {
     "data": {
      "text/plain": [
       "<lightfm.lightfm.LightFM at 0x7f57c9700a90>"
      ]
     },
     "execution_count": 353,
     "metadata": {},
     "output_type": "execute_result"
    }
   ],
   "source": [
    "model = LightFM(no_components = 20, loss='warp')\n",
    "%time model.fit(interactions, item_features = item_features, sample_weight = scaled_weights, epochs = 25, num_threads = 7)"
   ]
  },
  {
   "cell_type": "code",
   "execution_count": 355,
   "id": "8688b1f1-ce00-4e49-8f9d-f5548e2ff9d7",
   "metadata": {},
   "outputs": [],
   "source": [
    "def get_predictions(user_ids, model, weights, item_features):\n",
    "    num_users, num_items = weights.shape\n",
    "\n",
    "    weight = weights.tocsr()\n",
    "        \n",
    "    for user_id in user_ids:\n",
    "        user_id = str(user_id)\n",
    "        in_map = mapping[0][user_id]\n",
    "    \n",
    "    \n",
    "        user_row = weights.tocsr()[in_map, 0:].toarray()[0,]\n",
    "        scores = model.predict(mapping[0][user_id], np.arange(num_items))\n",
    "        known_read = [(book_features[int(inv_mapping[2][x])-1]['title'], weight[in_map ,x]) for x in range(num_items) if weight[in_map ,x] > 0]\n",
    "        top_items = [book_features[int(inv_mapping[2][x])-1]['title'] for x in np.argsort(-scores)] \n",
    "\n",
    "        known_read.sort(key=lambda tup: tup[1], reverse = True)\n",
    "        known_reads = [x[0] for x in known_read]\n",
    "        known_read_set = set(known_reads)\n",
    "    \n",
    "        print(f\"User {user_id}\")\n",
    "        print(\"     Known positives:\")\n",
    "\n",
    "        for x, y in known_read[:7]:\n",
    "            print(f\"        {x}, rated: {y}\")\n",
    "    \n",
    "        print(\"     Recommended:\")\n",
    "\n",
    "        count = 0\n",
    "        for x in top_items:\n",
    "            if x not in known_read_set:\n",
    "                print(f\"        {x}\")\n",
    "                count+=1\n",
    "            if count == 6:\n",
    "                break"
   ]
  },
  {
   "cell_type": "code",
   "execution_count": 375,
   "id": "b4c05731-5b1f-4922-9738-b5d912339797",
   "metadata": {
    "scrolled": true
   },
   "outputs": [
    {
     "name": "stdout",
     "output_type": "stream",
     "text": [
      "User 9\n",
      "     Known positives:\n",
      "        The Shadow of the Wind (The Cemetery of Forgotten Books,  #1), rated: 5.0\n",
      "        Harry Potter and the Prisoner of Azkaban (Harry Potter, #3), rated: 5.0\n",
      "        The Great Gatsby, rated: 5.0\n",
      "        1984, rated: 5.0\n",
      "        Me Talk Pretty One Day, rated: 5.0\n",
      "        Holidays on Ice, rated: 5.0\n",
      "        Atonement, rated: 5.0\n",
      "     Recommended:\n",
      "        Ender's Game (Ender's Saga, #1)\n",
      "        The Lion, the Witch, and the Wardrobe (Chronicles of Narnia, #1)\n",
      "        Little Women (Little Women, #1)\n",
      "        To Kill a Mockingbird\n",
      "        Divergent (Divergent, #1)\n",
      "        The Lightning Thief (Percy Jackson and the Olympians, #1)\n"
     ]
    }
   ],
   "source": [
    "get_predictions([9], model, weights, item_features)"
   ]
  },
  {
   "cell_type": "code",
   "execution_count": 59,
   "id": "c5d4b2de-62cd-4f76-944e-75740b95414b",
   "metadata": {
    "scrolled": true
   },
   "outputs": [
    {
     "name": "stdout",
     "output_type": "stream",
     "text": [
      "The Hunger Games (The Hunger Games, #1)\n",
      "Harry Potter and the Sorcerer's Stone (Harry Potter, #1)\n",
      "Twilight (Twilight, #1)\n",
      "To Kill a Mockingbird\n",
      "The Great Gatsby\n",
      "The Fault in Our Stars\n",
      "The Hobbit\n",
      "The Catcher in the Rye\n",
      "Angels & Demons  (Robert Langdon, #1)\n",
      "Pride and Prejudice\n"
     ]
    }
   ],
   "source": [
    "for i in book_features[:10]:\n",
    "    print(i['title'])"
   ]
  },
  {
   "cell_type": "code",
   "execution_count": 135,
   "id": "3fe5c6a6-9863-41c9-8f9f-1afdaf457a38",
   "metadata": {},
   "outputs": [
    {
     "name": "stdout",
     "output_type": "stream",
     "text": [
      "AUC: train 0.96\n"
     ]
    }
   ],
   "source": [
    "train_auc = auc_score(model, interactions, item_features = item_features).mean()\n",
    "print('AUC: train %.2f' % (train_auc))"
   ]
  }
 ],
 "metadata": {
  "kernelspec": {
   "display_name": "Python 3 (ipykernel)",
   "language": "python",
   "name": "python3"
  },
  "language_info": {
   "codemirror_mode": {
    "name": "ipython",
    "version": 3
   },
   "file_extension": ".py",
   "mimetype": "text/x-python",
   "name": "python",
   "nbconvert_exporter": "python",
   "pygments_lexer": "ipython3",
   "version": "3.11.7"
  }
 },
 "nbformat": 4,
 "nbformat_minor": 5
}
